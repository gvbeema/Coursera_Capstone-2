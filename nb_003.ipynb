{
 "cells": [
  {
   "cell_type": "code",
   "execution_count": 2,
   "metadata": {},
   "outputs": [
    {
     "data": {
      "text/plain": [
       "['.git',\n",
       " '.ipynb_checkpoints',\n",
       " 'fixed.csv',\n",
       " 'fixedwithll.csv',\n",
       " 'Geospatial_Coordinates.csv',\n",
       " 'machinelearningcapstone.ipynb',\n",
       " 'nb_001.ipynb',\n",
       " 'nb_002.ipynb',\n",
       " 'nb_003.ipynb',\n",
       " 'README.md',\n",
       " 'T120120190818063237.CSV',\n",
       " 'zip.csv']"
      ]
     },
     "execution_count": 2,
     "metadata": {},
     "output_type": "execute_result"
    }
   ],
   "source": [
    "# for assigment week 3\n",
    "import os\n",
    "os.listdir()\n",
    "\n",
    "\n",
    "'''\n",
    "Key features of the project\n",
    "                    1: Map representation\n",
    "                    2: Interest from the choices -- Tech business, economics, event lists \n",
    "                    3. Taste for restaurants, Italian , Fast food , Coffee\n",
    "user inputs:\n",
    "    1. City name\n",
    "    2. name of food or venues that can be from from foursquare.com\n",
    "\n",
    "'''"
   ]
  },
  {
   "cell_type": "code",
   "execution_count": 255,
   "metadata": {},
   "outputs": [],
   "source": [
    "#importing libraries\n",
    "import pandas as pd\n",
    "import requests as rq\n",
    "import folium\n",
    "import httplib2\n",
    "import json\n",
    "\n",
    "#access my local csv file\n",
    "df = pd.read_csv('fixedwithll.csv')"
   ]
  },
  {
   "cell_type": "markdown",
   "metadata": {},
   "source": [
    "Here I am going to add some clustering by geographic location\n",
    "    Notice: it can many featured data set but I used it only two feature dataset\n",
    "    \n",
    "From now on I am try to show how to use kmeans algorithm from sklearn library\n",
    "but I just try to use in on the coordinates of my df \n",
    "    "
   ]
  },
  {
   "cell_type": "code",
   "execution_count": 252,
   "metadata": {},
   "outputs": [
    {
     "data": {
      "text/html": [
       "<div>\n",
       "<style scoped>\n",
       "    .dataframe tbody tr th:only-of-type {\n",
       "        vertical-align: middle;\n",
       "    }\n",
       "\n",
       "    .dataframe tbody tr th {\n",
       "        vertical-align: top;\n",
       "    }\n",
       "\n",
       "    .dataframe thead th {\n",
       "        text-align: right;\n",
       "    }\n",
       "</style>\n",
       "<table border=\"1\" class=\"dataframe\">\n",
       "  <thead>\n",
       "    <tr style=\"text-align: right;\">\n",
       "      <th></th>\n",
       "      <th>Latitude</th>\n",
       "      <th>Longitude</th>\n",
       "    </tr>\n",
       "  </thead>\n",
       "  <tbody>\n",
       "    <tr>\n",
       "      <th>0</th>\n",
       "      <td>43.655559</td>\n",
       "      <td>-79.523593</td>\n",
       "    </tr>\n",
       "    <tr>\n",
       "      <th>1</th>\n",
       "      <td>43.742853</td>\n",
       "      <td>-79.459731</td>\n",
       "    </tr>\n",
       "    <tr>\n",
       "      <th>2</th>\n",
       "      <td>43.670195</td>\n",
       "      <td>-79.375949</td>\n",
       "    </tr>\n",
       "    <tr>\n",
       "      <th>3</th>\n",
       "      <td>43.766657</td>\n",
       "      <td>-79.273543</td>\n",
       "    </tr>\n",
       "  </tbody>\n",
       "</table>\n",
       "</div>"
      ],
      "text/plain": [
       "    Latitude  Longitude\n",
       "0  43.655559 -79.523593\n",
       "1  43.742853 -79.459731\n",
       "2  43.670195 -79.375949\n",
       "3  43.766657 -79.273543"
      ]
     },
     "execution_count": 252,
     "metadata": {},
     "output_type": "execute_result"
    }
   ],
   "source": [
    "#import useful libraries\n",
    "\n",
    "from sklearn.cluster import KMeans\n",
    "from sklearn.preprocessing import StandardScaler\n",
    "\n",
    "#slice my original dataframe\n",
    "\n",
    "data = df[['Latitude', 'Longitude']]\n",
    "# data transformation preparation\n",
    "X = data.values[:, :]\n",
    "# then transform using StandardScaler\n",
    "cluster = StandardScaler().fit_transform(X)\n",
    "\n",
    "# if you want to you do this in different cells and run it \n",
    "# then declaring my KMeans object with 4 clusters I can choose what ever I want\n",
    "\n",
    "\n",
    "kmeans = KMeans(init = 'k-means++', n_clusters = 4, n_init=12)\n",
    "# now fitting\n",
    "kmeans.fit(cluster)\n",
    "\n",
    "# getting result labels after fitting my data set\n",
    "# it will be 0, 1, 2, 3\n",
    "labels = kmeans.labels_\n",
    "\n",
    "# then append it to my original data frame with column name Cluster\n",
    "\n",
    "df['Cluster'] = labels\n",
    "\n",
    "# if i can see the centers of kmeans\n",
    "#kmeans.cluster_centers_\n",
    "\n",
    "# then get center by grouping the by Cluster\n",
    "center = df.groupby('Cluster').mean()\n",
    "\n",
    "\n",
    "#print(center)\n",
    "center= center.reset_index()\n",
    "center =center.drop(['Cluster'], axis = 1) # since I have just did resetindex in order\n",
    "# to see all useful column and rows in my center df\n",
    "\n",
    "center.to_csv('center.csv', index=False)# finally i am making file called center.csv\n",
    "center"
   ]
  },
  {
   "cell_type": "code",
   "execution_count": 253,
   "metadata": {},
   "outputs": [],
   "source": [
    "\n",
    "\"\"\"\n",
    "This is critical cell that I have to delete important informations be\n",
    "like api key before submission even commit to git hub.\n",
    "\n",
    "\"\"\"\n",
    "\n",
    "meetupurl = ''\n",
    "meetupapi_key = ''\n",
    "meetupclientsec = ''\n",
    "evenbrite = ''\n",
    "eventbriteurl = '' # for purpose of listing popular events near him in his industry\n",
    "fsclient_d = ''\n",
    "fsclient_secret = ''\n",
    "googlekey= ''\n"
   ]
  },
  {
   "cell_type": "markdown",
   "metadata": {},
   "source": [
    "# Caution googlemap api request has price to pay"
   ]
  },
  {
   "cell_type": "code",
   "execution_count": 256,
   "metadata": {},
   "outputs": [
    {
     "name": "stdout",
     "output_type": "stream",
     "text": [
      "Toronto\n",
      "[43.653226, -79.3831843]\n"
     ]
    }
   ],
   "source": [
    "# google geolocation findte\n",
    "\n",
    "# now this stage for connecting to the API websites to access my data\n",
    "# for user \n",
    "#\n",
    "cityname = input(\"Which city are you in, input city name : \")\n",
    "def getGeocodeLocation(inputString, google_api_key):\n",
    "    locationString = inputString.replace(\" \", \"+\")\n",
    "    url = ('https://maps.googleapis.com/maps/api/geocode/json?address=%s&key=%s'%(locationString, google_api_key))\n",
    "    h = httplib2.Http()\n",
    "    response, content = h.request(url, 'GET')\n",
    "    result = json.loads(content)\n",
    "    lat =result['results'][0]['geometry']['location']['lat']\n",
    "    long = result['results'][0]['geometry']['location']['lng']\n",
    "    return [lat, long]\n",
    "loccoors = getGeocodeLocation(cityname, googlekey)\n",
    "print(loccoors)\n"
   ]
  },
  {
   "cell_type": "code",
   "execution_count": 5,
   "metadata": {},
   "outputs": [
    {
     "data": {
      "text/html": [
       "<div>\n",
       "<style scoped>\n",
       "    .dataframe tbody tr th:only-of-type {\n",
       "        vertical-align: middle;\n",
       "    }\n",
       "\n",
       "    .dataframe tbody tr th {\n",
       "        vertical-align: top;\n",
       "    }\n",
       "\n",
       "    .dataframe thead th {\n",
       "        text-align: right;\n",
       "    }\n",
       "</style>\n",
       "<table border=\"1\" class=\"dataframe\">\n",
       "  <thead>\n",
       "    <tr style=\"text-align: right;\">\n",
       "      <th></th>\n",
       "      <th>Postcode</th>\n",
       "      <th>Borough</th>\n",
       "      <th>Neighbourhood</th>\n",
       "      <th>Latitude</th>\n",
       "      <th>Longitude</th>\n",
       "    </tr>\n",
       "  </thead>\n",
       "  <tbody>\n",
       "    <tr>\n",
       "      <th>0</th>\n",
       "      <td>M3A</td>\n",
       "      <td>North York</td>\n",
       "      <td>Parkwoods</td>\n",
       "      <td>43.753259</td>\n",
       "      <td>-79.329656</td>\n",
       "    </tr>\n",
       "    <tr>\n",
       "      <th>1</th>\n",
       "      <td>M4A</td>\n",
       "      <td>North York</td>\n",
       "      <td>Victoria Village</td>\n",
       "      <td>43.725882</td>\n",
       "      <td>-79.315572</td>\n",
       "    </tr>\n",
       "    <tr>\n",
       "      <th>2</th>\n",
       "      <td>M5A</td>\n",
       "      <td>Downtown Toronto</td>\n",
       "      <td>Harbourfront;Regent Park</td>\n",
       "      <td>43.654260</td>\n",
       "      <td>-79.360636</td>\n",
       "    </tr>\n",
       "    <tr>\n",
       "      <th>3</th>\n",
       "      <td>M6A</td>\n",
       "      <td>North York</td>\n",
       "      <td>Lawrence Heights;Lawrence Manor</td>\n",
       "      <td>43.718518</td>\n",
       "      <td>-79.464763</td>\n",
       "    </tr>\n",
       "    <tr>\n",
       "      <th>4</th>\n",
       "      <td>M7A</td>\n",
       "      <td>Queen's Park</td>\n",
       "      <td>Queen's Park</td>\n",
       "      <td>43.662301</td>\n",
       "      <td>-79.389494</td>\n",
       "    </tr>\n",
       "  </tbody>\n",
       "</table>\n",
       "</div>"
      ],
      "text/plain": [
       "  Postcode           Borough                    Neighbourhood   Latitude  \\\n",
       "0      M3A        North York                        Parkwoods  43.753259   \n",
       "1      M4A        North York                 Victoria Village  43.725882   \n",
       "2      M5A  Downtown Toronto         Harbourfront;Regent Park  43.654260   \n",
       "3      M6A        North York  Lawrence Heights;Lawrence Manor  43.718518   \n",
       "4      M7A      Queen's Park                     Queen's Park  43.662301   \n",
       "\n",
       "   Longitude  \n",
       "0 -79.329656  \n",
       "1 -79.315572  \n",
       "2 -79.360636  \n",
       "3 -79.464763  \n",
       "4 -79.389494  "
      ]
     },
     "execution_count": 5,
     "metadata": {},
     "output_type": "execute_result"
    }
   ],
   "source": [
    "df.head()"
   ]
  },
  {
   "cell_type": "code",
   "execution_count": 259,
   "metadata": {},
   "outputs": [
    {
     "name": "stdout",
     "output_type": "stream",
     "text": [
      "What do you want to seach, Coffee, Restauran? : Coffe\n",
      "Thank you!\n"
     ]
    }
   ],
   "source": [
    "keyword = input(\"What do you want to seach, Coffee, Restauran? : \")\n",
    "def getfromfoursquare(cid, csec, loca, whattosearch):\n",
    "    url = 'https://api.foursquare.com/v2/venues/search?'\n",
    "    params = dict(\n",
    "      client_id=cid,\n",
    "      client_secret=csec,\n",
    "      v='20180323',\n",
    "      ll='{},{}'.format(loca[0], loca[1]),\n",
    "      query=whattosearch,\n",
    "      limit=15\n",
    "    )\n",
    "    return rq.get(url, params= params).json()['response']['venues']\n",
    "results = getfromfoursquare(fsclient_d, fsclient_secret, loccoors, keyword)\n",
    "print(\"Thank you!\")"
   ]
  },
  {
   "cell_type": "code",
   "execution_count": 260,
   "metadata": {},
   "outputs": [
    {
     "data": {
      "text/plain": [
       "'\\nfirst from pagination, events, location\\nchoose events-- there is event lists\\nchoose keys = [name, description, id, start, end, organization_id]\\n\\n'"
      ]
     },
     "execution_count": 260,
     "metadata": {},
     "output_type": "execute_result"
    }
   ],
   "source": [
    "def getfromevenbrite(evenbrite, city):\n",
    "    params = {'token':evenbrite, 'location.within':'4km', 'location.address':city}\n",
    "    url = 'https://www.eventbriteapi.com/v3/events/search?'\n",
    "    \n",
    "    result = rq.get(url, params=params)\n",
    "    return result.json()\n",
    "page = getfromevenbrite(evenbrite, cityname)\n",
    "# now getting events then I will display the name and \n",
    "\n",
    "# eventbrite response structure\n",
    "'''\n",
    "first from pagination, events, location\n",
    "choose events-- there is event lists\n",
    "choose keys = [name, description, id, start, end, organization_id]\n",
    "\n",
    "'''\n",
    "\n",
    "\n"
   ]
  },
  {
   "cell_type": "code",
   "execution_count": 261,
   "metadata": {},
   "outputs": [
    {
     "data": {
      "text/html": [
       "<div>\n",
       "<style scoped>\n",
       "    .dataframe tbody tr th:only-of-type {\n",
       "        vertical-align: middle;\n",
       "    }\n",
       "\n",
       "    .dataframe tbody tr th {\n",
       "        vertical-align: top;\n",
       "    }\n",
       "\n",
       "    .dataframe thead th {\n",
       "        text-align: right;\n",
       "    }\n",
       "</style>\n",
       "<table border=\"1\" class=\"dataframe\">\n",
       "  <thead>\n",
       "    <tr style=\"text-align: right;\">\n",
       "      <th></th>\n",
       "      <th>Latitude</th>\n",
       "      <th>Longitude</th>\n",
       "    </tr>\n",
       "  </thead>\n",
       "  <tbody>\n",
       "    <tr>\n",
       "      <th>0</th>\n",
       "      <td>43.766657</td>\n",
       "      <td>-79.273543</td>\n",
       "    </tr>\n",
       "    <tr>\n",
       "      <th>1</th>\n",
       "      <td>43.744489</td>\n",
       "      <td>-79.457073</td>\n",
       "    </tr>\n",
       "    <tr>\n",
       "      <th>2</th>\n",
       "      <td>43.669725</td>\n",
       "      <td>-79.374010</td>\n",
       "    </tr>\n",
       "    <tr>\n",
       "      <th>3</th>\n",
       "      <td>43.660021</td>\n",
       "      <td>-79.519620</td>\n",
       "    </tr>\n",
       "  </tbody>\n",
       "</table>\n",
       "</div>"
      ],
      "text/plain": [
       "    Latitude  Longitude\n",
       "0  43.766657 -79.273543\n",
       "1  43.744489 -79.457073\n",
       "2  43.669725 -79.374010\n",
       "3  43.660021 -79.519620"
      ]
     },
     "execution_count": 261,
     "metadata": {},
     "output_type": "execute_result"
    }
   ],
   "source": [
    "centers= pd.read_csv('center.csv')\n",
    "centers.head()"
   ]
  },
  {
   "cell_type": "code",
   "execution_count": 262,
   "metadata": {},
   "outputs": [],
   "source": [
    "'''accessing it first put index of element 0== , \n",
    "name, \n",
    "[location][address], \n",
    "[location][lat]\n",
    "[location][long], \n",
    "\n",
    "\n",
    "\n",
    "\n",
    "'''\n",
    "\n",
    "\n",
    "def infofsq(digger):\n",
    "    '''this function return diction with four key called Name, Address, latitude, Longitude'''\n",
    "    venuesdic ={'Name':[], 'Address':[], 'Latitude':[], 'Longitude':[],'neighborhood':[]}\n",
    "    for i in range(len(digger)):\n",
    "        venuesdic['Name'].append(digger[i]['name'])\n",
    "        venuesdic['Address'].append(digger[i]['location']['formattedAddress'][0]+digger[0]['location']['formattedAddress'][1])\n",
    "        venuesdic['Latitude'].append(digger[i]['location']['lat'])\n",
    "        venuesdic['Longitude'].append(digger[i]['location']['lng'])\n",
    "        #venuesdic['neighborhood'].append(digger[i]['location']['neighborhood'])\n",
    "\n",
    "    return venuesdic\n",
    "#digger[0]['name']\n",
    "fsdict = infofsq(results)\n"
   ]
  },
  {
   "cell_type": "code",
   "execution_count": 246,
   "metadata": {
    "scrolled": true
   },
   "outputs": [
    {
     "name": "stdout",
     "output_type": "stream",
     "text": [
      "Events in 4 km radius\n",
      "\t---------\t\n",
      "1\n",
      "Name: \t\t London Home Show Autumn 2019\n",
      "Id:\t\t 65162343323\n",
      "Start time:\t  2019-09-21T11:00:00\n",
      "Is it free\t\t True\n",
      "website:\t\t https://www.eventbrite.co.uk/e/london-home-show-autumn-2019-tickets-65162343323?aff=ebapi\n",
      "\t******\t\n",
      "2\n",
      "Name: \t\t REVIVE UK, LONDON | DANIEL CHAND (7NIGHTS)\n",
      "Id:\t\t 50380175461\n",
      "Start time:\t  2019-09-22T18:30:00\n",
      "Is it free\t\t False\n",
      "website:\t\t https://www.eventbrite.co.uk/e/revive-uk-london-daniel-chand-7nights-tickets-50380175461?aff=ebapi\n",
      "\t******\t\n",
      "3\n",
      "Name: \t\t The Gin & Rum Festival - London - 2019\n",
      "Id:\t\t 51512194360\n",
      "Start time:\t  2019-08-23T18:30:00\n",
      "Is it free\t\t False\n",
      "website:\t\t https://www.eventbrite.co.uk/e/the-gin-rum-festival-london-2019-tickets-51512194360?aff=ebapi\n",
      "\t******\t\n",
      "4\n",
      "Name: \t\t Black Girl Fest 2019 \n",
      "Id:\t\t 55465615148\n",
      "Start time:\t  2019-10-12T10:00:00\n",
      "Is it free\t\t False\n",
      "website:\t\t https://www.eventbrite.co.uk/e/black-girl-fest-2019-tickets-55465615148?aff=ebapi\n",
      "\t******\t\n",
      "5\n",
      "Name: \t\t Run the River 2019\n",
      "Id:\t\t 62583089706\n",
      "Start time:\t  2019-09-17T18:45:00\n",
      "Is it free\t\t False\n",
      "website:\t\t https://www.eventbrite.co.uk/e/run-the-river-2019-tickets-62583089706?aff=ebapi\n",
      "\t******\t\n"
     ]
    },
    {
     "data": {
      "text/html": [
       "<div style=\"width:100%;\"><div style=\"position:relative;width:100%;height:0;padding-bottom:60%;\"><iframe src=\"data:text/html;charset=utf-8;base64,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\" style=\"position:absolute;width:100%;height:100%;left:0;top:0;border:none !important;\" allowfullscreen webkitallowfullscreen mozallowfullscreen></iframe></div></div>"
      ],
      "text/plain": [
       "<folium.folium.Map at 0x24819b2de80>"
      ]
     },
     "execution_count": 246,
     "metadata": {},
     "output_type": "execute_result"
    }
   ],
   "source": [
    "# Im just randomly going to down town toronto to make folium Map object\n",
    "print('Events in 4 km radius\\n\\t---------\\t')\n",
    "\n",
    "for i in range(5):\n",
    "    print(i+1)\n",
    "    print('Name: \\t\\t',page['events'][i]['name']['text'])\n",
    "    print('Id:\\t\\t',page['events'][i]['id'])\n",
    "    print('Start time:\\t ',page['events'][i]['start']['local'])\n",
    "    print('Is it free\\t\\t', page['events'][i]['is_free'])\n",
    "    print('website:\\t\\t', page['events'][i]['url'])\n",
    "    print('\\t******\\t')\n",
    "\n",
    "\n",
    "mapofc = folium.Map([df['Latitude'][2], df['Longitude'][2]], zoom_start=13)\n",
    "mapofc\n",
    "\n",
    "for i in range(len(df)):\n",
    "    folium.Marker([df['Latitude'][i], df['Longitude'][i]], tooltip = df['Borough'][i]).add_to(mapofc)\n",
    "\n",
    "'''Above printed events radius in the map from eventbride'''\n",
    "folium.vector_layers.Circle(loccoors, popup = cityname, radius = 4000).add_to(mapofc)\n",
    " \n",
    "folium.map.LayerControl().add_to(mapofc)\n",
    "'adds specific places to the map'\n",
    "for i in range(len(fsdict)):\n",
    "    coord = [fsdict['Latitude'][i], fsdict['Longitude'][i]]\n",
    "    name = fsdict['Name'][i]\n",
    "    #folium.vector_layers.Rectangle(coord, popup='Name').add_to(mapofc)\n",
    "    folium.vector_layers.CircleMarker(coord, radius =10, tooltip = name, fill_color = '00bfff').add_to(mapofc)\n",
    "for i in range(len(centers)):\n",
    "    latti = centers['Latitude'][i]\n",
    "    longi = centers['Longitude'][i]\n",
    "    folium.vector_layers.Circle([latti, longi], tooltip = 'Cluster {}'.format(i), radius = 5300, color = '#006400').add_to(mapofc)\n",
    "    folium.vector_layers.CircleMarker([latti, longi],tooltip = 'Cluster {}'.format(i), color = '00bfff', fill_color = '#00FF00').add_to(mapofc)\n",
    "\n",
    "mapofc\n"
   ]
  },
  {
   "cell_type": "code",
   "execution_count": 11,
   "metadata": {},
   "outputs": [],
   "source": [
    "#it will be continued"
   ]
  },
  {
   "cell_type": "markdown",
   "metadata": {},
   "source": [
    "#for more information about the toronto from wikipedia"
   ]
  },
  {
   "cell_type": "code",
   "execution_count": 265,
   "metadata": {},
   "outputs": [],
   "source": [
    "#getting web content\n",
    "wikicontent = rq.get('https://en.wikipedia.org/wiki/Demographics_of_Toronto').content"
   ]
  },
  {
   "cell_type": "code",
   "execution_count": 266,
   "metadata": {},
   "outputs": [],
   "source": [
    "frames = pd.read_html(wikicontent)"
   ]
  },
  {
   "cell_type": "code",
   "execution_count": 268,
   "metadata": {},
   "outputs": [],
   "source": [
    "\n",
    "#processing to get table structure i want to get\n",
    "framesdf = []\n",
    "for i in frames:\n",
    "    framesdf.append(i)\n",
    "f = frames[9:17]\n"
   ]
  },
  {
   "cell_type": "code",
   "execution_count": 269,
   "metadata": {},
   "outputs": [],
   "source": [
    "# extraction populations of toronto if needed\n",
    "\n",
    "population = []\n",
    "sectornames = []\n",
    "for i in f:\n",
    "    population+=list(i['Population'][0:])\n",
    "    sectornames+=list(i['Riding'][0:])\n",
    "#population\n",
    "#sectornames\n",
    "popdf = pd.DataFrame({'Riding': sectornames, 'Population':population})\n"
   ]
  },
  {
   "cell_type": "code",
   "execution_count": 270,
   "metadata": {},
   "outputs": [
    {
     "data": {
      "text/html": [
       "<div>\n",
       "<style scoped>\n",
       "    .dataframe tbody tr th:only-of-type {\n",
       "        vertical-align: middle;\n",
       "    }\n",
       "\n",
       "    .dataframe tbody tr th {\n",
       "        vertical-align: top;\n",
       "    }\n",
       "\n",
       "    .dataframe thead th {\n",
       "        text-align: right;\n",
       "    }\n",
       "</style>\n",
       "<table border=\"1\" class=\"dataframe\">\n",
       "  <thead>\n",
       "    <tr style=\"text-align: right;\">\n",
       "      <th></th>\n",
       "      <th>Riding</th>\n",
       "      <th>Population</th>\n",
       "    </tr>\n",
       "  </thead>\n",
       "  <tbody>\n",
       "    <tr>\n",
       "      <th>0</th>\n",
       "      <td>Spadina-Fort York</td>\n",
       "      <td>114315</td>\n",
       "    </tr>\n",
       "    <tr>\n",
       "      <th>1</th>\n",
       "      <td>Beaches-East York</td>\n",
       "      <td>108435</td>\n",
       "    </tr>\n",
       "    <tr>\n",
       "      <th>2</th>\n",
       "      <td>Davenport</td>\n",
       "      <td>107395</td>\n",
       "    </tr>\n",
       "    <tr>\n",
       "      <th>3</th>\n",
       "      <td>Parkdale-High Park</td>\n",
       "      <td>106445</td>\n",
       "    </tr>\n",
       "    <tr>\n",
       "      <th>4</th>\n",
       "      <td>Toronto-Danforth</td>\n",
       "      <td>105395</td>\n",
       "    </tr>\n",
       "  </tbody>\n",
       "</table>\n",
       "</div>"
      ],
      "text/plain": [
       "               Riding  Population\n",
       "0   Spadina-Fort York      114315\n",
       "1   Beaches-East York      108435\n",
       "2           Davenport      107395\n",
       "3  Parkdale-High Park      106445\n",
       "4    Toronto-Danforth      105395"
      ]
     },
     "execution_count": 270,
     "metadata": {},
     "output_type": "execute_result"
    }
   ],
   "source": [
    "popdf.head()"
   ]
  },
  {
   "cell_type": "code",
   "execution_count": 275,
   "metadata": {},
   "outputs": [],
   "source": [
    "popdf.index = popdf.Riding"
   ]
  },
  {
   "cell_type": "markdown",
   "metadata": {},
   "source": [
    "Now I am making final histogram for Toronto population by Riding"
   ]
  },
  {
   "cell_type": "code",
   "execution_count": 279,
   "metadata": {},
   "outputs": [],
   "source": [
    "import matplotlib.pyplot as plt\n",
    "popdf = popdf.drop(['Riding'], axis = 1)"
   ]
  },
  {
   "cell_type": "code",
   "execution_count": 301,
   "metadata": {},
   "outputs": [
    {
     "data": {
      "text/plain": [
       "Text(0.5, 1.0, 'Toronto Population Bar chart')"
      ]
     },
     "execution_count": 301,
     "metadata": {},
     "output_type": "execute_result"
    },
    {
     "data": {
      "image/png": "[encoded data removed]",
      "text/plain": [
       "<Figure size 1296x720 with 1 Axes>"
      ]
     },
     "metadata": {
      "needs_background": "light"
     },
     "output_type": "display_data"
    }
   ],
   "source": [
    "fig = plt.subplots(figsize=(18, 10))\n",
    "plt.barh(popdf.index, popdf[\"Population\"],  color = 'blue')\n",
    "\n",
    "plt.ylabel('Division names', fontsize =14)\n",
    "plt.xlabel('Population')\n",
    "plt.title(\"Toronto Population Bar chart\")\n",
    "\n"
   ]
  },
  {
   "cell_type": "markdown",
   "metadata": {},
   "source": [
    "# thank you so much for participation!"
   ]
  },
  {
   "cell_type": "code",
   "execution_count": null,
   "metadata": {},
   "outputs": [],
   "source": []
  }
 ],
 "metadata": {
  "kernelspec": {
   "display_name": "Python 3",
   "language": "python",
   "name": "python3"
  },
  "language_info": {
   "codemirror_mode": {
    "name": "ipython",
    "version": 3
   },
   "file_extension": ".py",
   "mimetype": "text/x-python",
   "name": "python",
   "nbconvert_exporter": "python",
   "pygments_lexer": "ipython3",
   "version": "3.7.3"
  }
 },
 "nbformat": 4,
 "nbformat_minor": 2
}
